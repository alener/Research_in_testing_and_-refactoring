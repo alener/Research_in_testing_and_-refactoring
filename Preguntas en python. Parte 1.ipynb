{
 "metadata": {
  "name": "",
  "signature": "sha256:c6071fea14aaae09f398e0fdef8d624aa74f91ff4f82977d34045baf3df731c0"
 },
 "nbformat": 3,
 "nbformat_minor": 0,
 "worksheets": [
  {
   "cells": [
    {
     "cell_type": "heading",
     "level": 1,
     "metadata": {},
     "source": [
      "M\u00e9todos y atributos de los diferentes tipos de cadenas en python"
     ]
    },
    {
     "cell_type": "markdown",
     "metadata": {},
     "source": [
      "En el presente trabajo se busca comenzar a explorar python mediate preguntas, yendo adem\u00e1s de lo general a lo particular."
     ]
    },
    {
     "cell_type": "markdown",
     "metadata": {},
     "source": [
      "Primero se veran todos los m\u00e9todos y atributos de las cadenas de caracteres(string), listas(list), tuplas(tuple) y conjuntos (set).\n",
      "Con el m\u00e9todo dir(x), en donde x ser\u00e1 alguna de las cadenas mencionadas anteriormente, se despliegan por orden alfabetico los m\u00e9todos y atributos de x."
     ]
    },
    {
     "cell_type": "markdown",
     "metadata": {},
     "source": [
      "Definimos entonces similarmente las x:"
     ]
    },
    {
     "cell_type": "code",
     "collapsed": false,
     "input": [
      "palabra = 'aeiou'\n",
      "lista = ['a','e','i','o','u']\n",
      "tupla = ('a','e','i','o','u')\n",
      "conjunto = {'a','e','i','o','u'}\n",
      "\n"
     ],
     "language": "python",
     "metadata": {},
     "outputs": [],
     "prompt_number": 19
    },
    {
     "cell_type": "markdown",
     "metadata": {},
     "source": [
      "Ahora mostramos todos los m\u00e9todos y atributos de los objetos de arriba "
     ]
    },
    {
     "cell_type": "markdown",
     "metadata": {},
     "source": [
      "##Ser\u00eda c\u00f3mo preguntar \u00bfCuales son los m\u00e9todos y atributos de x?  Se pregunta con dir(x)"
     ]
    },
    {
     "cell_type": "code",
     "collapsed": false,
     "input": [
      "print('Los metodos y atributos del objeto palabra son:', dir(palabra))"
     ],
     "language": "python",
     "metadata": {},
     "outputs": [
      {
       "output_type": "stream",
       "stream": "stdout",
       "text": [
        "('Los metodos y atributos del objeto palabra son:', ['__add__', '__class__', '__contains__', '__delattr__', '__doc__', '__eq__', '__format__', '__ge__', '__getattribute__', '__getitem__', '__getnewargs__', '__getslice__', '__gt__', '__hash__', '__init__', '__le__', '__len__', '__lt__', '__mod__', '__mul__', '__ne__', '__new__', '__reduce__', '__reduce_ex__', '__repr__', '__rmod__', '__rmul__', '__setattr__', '__sizeof__', '__str__', '__subclasshook__', '_formatter_field_name_split', '_formatter_parser', 'capitalize', 'center', 'count', 'decode', 'encode', 'endswith', 'expandtabs', 'find', 'format', 'index', 'isalnum', 'isalpha', 'isdigit', 'islower', 'isspace', 'istitle', 'isupper', 'join', 'ljust', 'lower', 'lstrip', 'partition', 'replace', 'rfind', 'rindex', 'rjust', 'rpartition', 'rsplit', 'rstrip', 'split', 'splitlines', 'startswith', 'strip', 'swapcase', 'title', 'translate', 'upper', 'zfill'])\n"
       ]
      }
     ],
     "prompt_number": 20
    },
    {
     "cell_type": "code",
     "collapsed": false,
     "input": [
      "print('Los metodos y atributos del objeto lista son:', dir(lista))"
     ],
     "language": "python",
     "metadata": {},
     "outputs": [
      {
       "output_type": "stream",
       "stream": "stdout",
       "text": [
        "('Los metodos y atributos del objeto lista son:', ['__add__', '__class__', '__contains__', '__delattr__', '__delitem__', '__delslice__', '__doc__', '__eq__', '__format__', '__ge__', '__getattribute__', '__getitem__', '__getslice__', '__gt__', '__hash__', '__iadd__', '__imul__', '__init__', '__iter__', '__le__', '__len__', '__lt__', '__mul__', '__ne__', '__new__', '__reduce__', '__reduce_ex__', '__repr__', '__reversed__', '__rmul__', '__setattr__', '__setitem__', '__setslice__', '__sizeof__', '__str__', '__subclasshook__', 'append', 'count', 'extend', 'index', 'insert', 'pop', 'remove', 'reverse', 'sort'])\n"
       ]
      }
     ],
     "prompt_number": 21
    },
    {
     "cell_type": "code",
     "collapsed": false,
     "input": [
      "print('Los metodos y atributos del objeto tupla son:', dir(tupla))"
     ],
     "language": "python",
     "metadata": {},
     "outputs": [
      {
       "output_type": "stream",
       "stream": "stdout",
       "text": [
        "('Los metodos y atributos del objeto tupla son:', ['__add__', '__class__', '__contains__', '__delattr__', '__doc__', '__eq__', '__format__', '__ge__', '__getattribute__', '__getitem__', '__getnewargs__', '__getslice__', '__gt__', '__hash__', '__init__', '__iter__', '__le__', '__len__', '__lt__', '__mul__', '__ne__', '__new__', '__reduce__', '__reduce_ex__', '__repr__', '__rmul__', '__setattr__', '__sizeof__', '__str__', '__subclasshook__', 'count', 'index'])\n"
       ]
      }
     ],
     "prompt_number": 22
    },
    {
     "cell_type": "code",
     "collapsed": false,
     "input": [
      "print('Los metodos y atributos del objeto conjunto son:', dir(conjunto))"
     ],
     "language": "python",
     "metadata": {},
     "outputs": [
      {
       "output_type": "stream",
       "stream": "stdout",
       "text": [
        "('Los metodos y atributos del objeto conjunto son:', ['__and__', '__class__', '__cmp__', '__contains__', '__delattr__', '__doc__', '__eq__', '__format__', '__ge__', '__getattribute__', '__gt__', '__hash__', '__iand__', '__init__', '__ior__', '__isub__', '__iter__', '__ixor__', '__le__', '__len__', '__lt__', '__ne__', '__new__', '__or__', '__rand__', '__reduce__', '__reduce_ex__', '__repr__', '__ror__', '__rsub__', '__rxor__', '__setattr__', '__sizeof__', '__str__', '__sub__', '__subclasshook__', '__xor__', 'add', 'clear', 'copy', 'difference', 'difference_update', 'discard', 'intersection', 'intersection_update', 'isdisjoint', 'issubset', 'issuperset', 'pop', 'remove', 'symmetric_difference', 'symmetric_difference_update', 'union', 'update'])\n"
       ]
      }
     ],
     "prompt_number": 23
    },
    {
     "cell_type": "markdown",
     "metadata": {},
     "source": [
      "Ahora podr\u00edamos preguntar (aunque supuestamente ya lo sabemos) **\u00bfque tipo de objeto son? con type(x)**, o bien si tendr\u00edamos alguna sospecha **\u00bfes de tipo (P ej) string x?, con isinstance(string,x)**"
     ]
    },
    {
     "cell_type": "code",
     "collapsed": false,
     "input": [
      "print(type(palabra), type(lista), type(tupla), type(conjunto))"
     ],
     "language": "python",
     "metadata": {},
     "outputs": [
      {
       "output_type": "stream",
       "stream": "stdout",
       "text": [
        "(<type 'str'>, <type 'list'>, <type 'tuple'>, <type 'set'>)\n"
       ]
      }
     ],
     "prompt_number": 24
    },
    {
     "cell_type": "code",
     "collapsed": false,
     "input": [
      "isinstance(palabra,str)\n",
      "#isinstance(lista,list)\n",
      "#isinstance(tupla,tuple)\n",
      "#isinstance(conjunto,set)"
     ],
     "language": "python",
     "metadata": {},
     "outputs": [
      {
       "metadata": {},
       "output_type": "pyout",
       "prompt_number": 25,
       "text": [
        "True"
       ]
      }
     ],
     "prompt_number": 25
    },
    {
     "cell_type": "heading",
     "level": 3,
     "metadata": {},
     "source": [
      "Ahora convirtamos las listas de arriba en conjuntos para pode hacer operaciones propias de los conjuntos (ya veremos cuales son) y poder comparar, cotejar y sacar conclusiones al respecto"
     ]
    },
    {
     "cell_type": "code",
     "collapsed": false,
     "input": [
      "metatr_str=set(dir(palabra))\n",
      "metatr_lista=set(dir(lista))\n",
      "metatr_tupla=set(dir(tupla))\n",
      "metatr_conjunto=set(dir(conjunto))"
     ],
     "language": "python",
     "metadata": {},
     "outputs": [],
     "prompt_number": 26
    },
    {
     "cell_type": "code",
     "collapsed": false,
     "input": [
      "print(metatr_str)"
     ],
     "language": "python",
     "metadata": {},
     "outputs": [
      {
       "output_type": "stream",
       "stream": "stdout",
       "text": [
        "set(['upper', '__getslice__', 'startswith', 'lstrip', '__str__', '__getattribute__', 'rpartition', 'replace', 'isdigit', 'endswith', 'splitlines', 'rfind', 'strip', '__rmul__', '__lt__', '__getnewargs__', '__rmod__', '__init__', 'index', '__setattr__', '__reduce_ex__', '__new__', 'isalnum', '__contains__', 'rindex', 'capitalize', '__format__', '__class__', 'find', 'decode', 'isalpha', 'split', 'rstrip', 'encode', '_formatter_parser', 'translate', '__doc__', '__len__', '__repr__', '__ne__', '__getitem__', 'format', 'ljust', '__reduce__', 'rjust', 'swapcase', 'islower', '__subclasshook__', 'zfill', '__add__', '__gt__', '__eq__', '__sizeof__', 'count', 'lower', 'join', 'center', '__mod__', 'partition', 'rsplit', 'expandtabs', 'isspace', 'istitle', '__delattr__', '__le__', '__mul__', '_formatter_field_name_split', '__hash__', 'title', 'isupper', '__ge__'])\n"
       ]
      }
     ],
     "prompt_number": 27
    },
    {
     "cell_type": "markdown",
     "metadata": {},
     "source": [
      "Podr\u00edamos preguntar \u00bfCu\u00e1les son los m\u00e9todos y atributos que son propios de una cadena de caracteres pero no de una lista? Esto ser\u00eda algo as\u00ed c\u00f3mo lo que caracteriza a una cadena de caracteres"
     ]
    },
    {
     "cell_type": "code",
     "collapsed": false,
     "input": [
      "metatr_str - metatr_lista"
     ],
     "language": "python",
     "metadata": {},
     "outputs": [
      {
       "metadata": {},
       "output_type": "pyout",
       "prompt_number": 28,
       "text": [
        "{'__getnewargs__',\n",
        " '__mod__',\n",
        " '__rmod__',\n",
        " '_formatter_field_name_split',\n",
        " '_formatter_parser',\n",
        " 'capitalize',\n",
        " 'center',\n",
        " 'decode',\n",
        " 'encode',\n",
        " 'endswith',\n",
        " 'expandtabs',\n",
        " 'find',\n",
        " 'format',\n",
        " 'isalnum',\n",
        " 'isalpha',\n",
        " 'isdigit',\n",
        " 'islower',\n",
        " 'isspace',\n",
        " 'istitle',\n",
        " 'isupper',\n",
        " 'join',\n",
        " 'ljust',\n",
        " 'lower',\n",
        " 'lstrip',\n",
        " 'partition',\n",
        " 'replace',\n",
        " 'rfind',\n",
        " 'rindex',\n",
        " 'rjust',\n",
        " 'rpartition',\n",
        " 'rsplit',\n",
        " 'rstrip',\n",
        " 'split',\n",
        " 'splitlines',\n",
        " 'startswith',\n",
        " 'strip',\n",
        " 'swapcase',\n",
        " 'title',\n",
        " 'translate',\n",
        " 'upper',\n",
        " 'zfill'}"
       ]
      }
     ],
     "prompt_number": 28
    },
    {
     "cell_type": "markdown",
     "metadata": {},
     "source": [
      "Podr\u00edamos preguntar \u00bfCuales son los m\u00e9todos y atributos comunes entre listas y strings? Ser\u00eda algo as\u00ed c\u00f3mo lo que caracteriza a una cadena"
     ]
    },
    {
     "cell_type": "code",
     "collapsed": false,
     "input": [
      "metatr_str.intersection(metatr_lista)"
     ],
     "language": "python",
     "metadata": {},
     "outputs": [
      {
       "metadata": {},
       "output_type": "pyout",
       "prompt_number": 29,
       "text": [
        "{'__add__',\n",
        " '__class__',\n",
        " '__contains__',\n",
        " '__delattr__',\n",
        " '__doc__',\n",
        " '__eq__',\n",
        " '__format__',\n",
        " '__ge__',\n",
        " '__getattribute__',\n",
        " '__getitem__',\n",
        " '__getslice__',\n",
        " '__gt__',\n",
        " '__hash__',\n",
        " '__init__',\n",
        " '__le__',\n",
        " '__len__',\n",
        " '__lt__',\n",
        " '__mul__',\n",
        " '__ne__',\n",
        " '__new__',\n",
        " '__reduce__',\n",
        " '__reduce_ex__',\n",
        " '__repr__',\n",
        " '__rmul__',\n",
        " '__setattr__',\n",
        " '__sizeof__',\n",
        " '__str__',\n",
        " '__subclasshook__',\n",
        " 'count',\n",
        " 'index'}"
       ]
      }
     ],
     "prompt_number": 29
    },
    {
     "cell_type": "markdown",
     "metadata": {},
     "source": [
      "Podemos recurrir al help de ipython para preguntar someramente **que hace** especificamente cada m\u00e9todo o atributo:"
     ]
    },
    {
     "cell_type": "code",
     "collapsed": false,
     "input": [
      "help(palabra.find)"
     ],
     "language": "python",
     "metadata": {},
     "outputs": [
      {
       "output_type": "stream",
       "stream": "stdout",
       "text": [
        "Help on built-in function find:\n",
        "\n",
        "find(...)\n",
        "    S.find(sub [,start [,end]]) -> int\n",
        "    \n",
        "    Return the lowest index in S where substring sub is found,\n",
        "    such that sub is contained within S[start:end].  Optional\n",
        "    arguments start and end are interpreted as in slice notation.\n",
        "    \n",
        "    Return -1 on failure.\n",
        "\n"
       ]
      }
     ],
     "prompt_number": 30
    },
    {
     "cell_type": "markdown",
     "metadata": {},
     "source": [
      "Si queremos ver la diferencia entre una lista y una tupla:"
     ]
    },
    {
     "cell_type": "code",
     "collapsed": false,
     "input": [
      "metatr_lista - metatr_tupla"
     ],
     "language": "python",
     "metadata": {},
     "outputs": [
      {
       "metadata": {},
       "output_type": "pyout",
       "prompt_number": 31,
       "text": [
        "{'__delitem__',\n",
        " '__delslice__',\n",
        " '__iadd__',\n",
        " '__imul__',\n",
        " '__reversed__',\n",
        " '__setitem__',\n",
        " '__setslice__',\n",
        " 'append',\n",
        " 'extend',\n",
        " 'insert',\n",
        " 'pop',\n",
        " 'remove',\n",
        " 'reverse',\n",
        " 'sort'}"
       ]
      }
     ],
     "prompt_number": 31
    },
    {
     "cell_type": "markdown",
     "metadata": {},
     "source": [
      "**Vemos que justamente una lista es una tupla que se puede modificar **"
     ]
    },
    {
     "cell_type": "markdown",
     "metadata": {},
     "source": [
      "Si queremos comparar una lista y un conjunto:"
     ]
    },
    {
     "cell_type": "code",
     "collapsed": false,
     "input": [
      "metatr_conjunto - metatr_lista"
     ],
     "language": "python",
     "metadata": {},
     "outputs": [
      {
       "metadata": {},
       "output_type": "pyout",
       "prompt_number": 32,
       "text": [
        "{'__and__',\n",
        " '__cmp__',\n",
        " '__iand__',\n",
        " '__ior__',\n",
        " '__isub__',\n",
        " '__ixor__',\n",
        " '__or__',\n",
        " '__rand__',\n",
        " '__ror__',\n",
        " '__rsub__',\n",
        " '__rxor__',\n",
        " '__sub__',\n",
        " '__xor__',\n",
        " 'add',\n",
        " 'clear',\n",
        " 'copy',\n",
        " 'difference',\n",
        " 'difference_update',\n",
        " 'discard',\n",
        " 'intersection',\n",
        " 'intersection_update',\n",
        " 'isdisjoint',\n",
        " 'issubset',\n",
        " 'issuperset',\n",
        " 'symmetric_difference',\n",
        " 'symmetric_difference_update',\n",
        " 'union',\n",
        " 'update'}"
       ]
      }
     ],
     "prompt_number": 32
    },
    {
     "cell_type": "markdown",
     "metadata": {},
     "source": [
      "Aqui podemos ver los m\u00e9todos y atributos propios de un conjunto, los cuales podr\u00edamos explorar con el help(x)"
     ]
    },
    {
     "cell_type": "markdown",
     "metadata": {},
     "source": [
      "Si hacemos la diferencia al rev\u00e9s, veremos que una lista tiene los m\u00e9todos propios de un ordenn algo que no tiene un conjunto(), o incluso un diccionario, que tambi\u00e9n es un conjunto:"
     ]
    },
    {
     "cell_type": "code",
     "collapsed": false,
     "input": [
      "metatr_lista - metatr_conjunto"
     ],
     "language": "python",
     "metadata": {},
     "outputs": [
      {
       "metadata": {},
       "output_type": "pyout",
       "prompt_number": 33,
       "text": [
        "{'__add__',\n",
        " '__delitem__',\n",
        " '__delslice__',\n",
        " '__getitem__',\n",
        " '__getslice__',\n",
        " '__iadd__',\n",
        " '__imul__',\n",
        " '__mul__',\n",
        " '__reversed__',\n",
        " '__rmul__',\n",
        " '__setitem__',\n",
        " '__setslice__',\n",
        " 'append',\n",
        " 'count',\n",
        " 'extend',\n",
        " 'index',\n",
        " 'insert',\n",
        " 'reverse',\n",
        " 'sort'}"
       ]
      }
     ],
     "prompt_number": 33
    },
    {
     "cell_type": "heading",
     "level": 3,
     "metadata": {},
     "source": [
      "Tambi\u00e9n se podr\u00eda seguir haciendo este ti\u1e55o operaciones y sacando conclusiones y tratando de aprender as\u00ed **todos o casi todos** los m\u00e9todos y atributos de los objetos built-in o incluso incorporando objetos del m\u00f3dulo collections "
     ]
    },
    {
     "cell_type": "markdown",
     "metadata": {},
     "source": [
      "Podemos tambi\u00e9n descubrir que existen cosas un tanto extra\u00f1as de python, dada la recursividad de dir(x):"
     ]
    },
    {
     "cell_type": "code",
     "collapsed": false,
     "input": [
      "dir(palabra.__add__)"
     ],
     "language": "python",
     "metadata": {},
     "outputs": [
      {
       "metadata": {},
       "output_type": "pyout",
       "prompt_number": 34,
       "text": [
        "['__call__',\n",
        " '__class__',\n",
        " '__cmp__',\n",
        " '__delattr__',\n",
        " '__doc__',\n",
        " '__format__',\n",
        " '__getattribute__',\n",
        " '__hash__',\n",
        " '__init__',\n",
        " '__name__',\n",
        " '__new__',\n",
        " '__objclass__',\n",
        " '__reduce__',\n",
        " '__reduce_ex__',\n",
        " '__repr__',\n",
        " '__self__',\n",
        " '__setattr__',\n",
        " '__sizeof__',\n",
        " '__str__',\n",
        " '__subclasshook__']"
       ]
      }
     ],
     "prompt_number": 34
    },
    {
     "cell_type": "code",
     "collapsed": false,
     "input": [
      "dir(palabra.__add__.__call__)"
     ],
     "language": "python",
     "metadata": {},
     "outputs": [
      {
       "metadata": {},
       "output_type": "pyout",
       "prompt_number": 35,
       "text": [
        "['__call__',\n",
        " '__class__',\n",
        " '__cmp__',\n",
        " '__delattr__',\n",
        " '__doc__',\n",
        " '__format__',\n",
        " '__getattribute__',\n",
        " '__hash__',\n",
        " '__init__',\n",
        " '__name__',\n",
        " '__new__',\n",
        " '__objclass__',\n",
        " '__reduce__',\n",
        " '__reduce_ex__',\n",
        " '__repr__',\n",
        " '__self__',\n",
        " '__setattr__',\n",
        " '__sizeof__',\n",
        " '__str__',\n",
        " '__subclasshook__']"
       ]
      }
     ],
     "prompt_number": 35
    },
    {
     "cell_type": "code",
     "collapsed": false,
     "input": [
      "dir(palabra.__add__.__call__.__cmp__)"
     ],
     "language": "python",
     "metadata": {},
     "outputs": [
      {
       "metadata": {},
       "output_type": "pyout",
       "prompt_number": 36,
       "text": [
        "['__call__',\n",
        " '__class__',\n",
        " '__cmp__',\n",
        " '__delattr__',\n",
        " '__doc__',\n",
        " '__format__',\n",
        " '__getattribute__',\n",
        " '__hash__',\n",
        " '__init__',\n",
        " '__name__',\n",
        " '__new__',\n",
        " '__objclass__',\n",
        " '__reduce__',\n",
        " '__reduce_ex__',\n",
        " '__repr__',\n",
        " '__self__',\n",
        " '__setattr__',\n",
        " '__sizeof__',\n",
        " '__str__',\n",
        " '__subclasshook__']"
       ]
      }
     ],
     "prompt_number": 36
    },
    {
     "cell_type": "heading",
     "level": 2,
     "metadata": {},
     "source": [
      "Ver la posibilidad de explorar de lo general a lo particular es sumamente interesante, pues permite ver aspectos que yendo de lo particular a lo general no permite ver, abriendo formas de exploraci\u00f3n y aprendizaje muchas veces completamente insospechadas pero que sin embargo creo altamente prometedoras."
     ]
    }
   ],
   "metadata": {}
  }
 ]
}